{
 "cells": [
  {
   "cell_type": "markdown",
   "id": "36a36f1a-bbc0-4e6e-9dec-d4f6f175af1f",
   "metadata": {},
   "source": [
    "# Data quality check (template)"
   ]
  },
  {
   "cell_type": "code",
   "execution_count": null,
   "id": "a6d3e319-f366-4c94-881d-2776c422a200",
   "metadata": {
    "tags": []
   },
   "outputs": [],
   "source": [
    "import os\n",
    "from pathlib import Path\n",
    "import re\n",
    "\n",
    "import mne"
   ]
  },
  {
   "cell_type": "code",
   "execution_count": null,
   "id": "e609b70b-a699-4243-9f54-f4ed7152922c",
   "metadata": {
    "tags": []
   },
   "outputs": [],
   "source": [
    "project = \"test\"\n",
    "subject = \"sub-V1001\"\n",
    "\n",
    "# Path to save the results\n",
    "dst_dir = Path(\"../workspace\")\n",
    "\n",
    "src_file = \"/path/to/raw/file\"\n",
    "dst_file = dst_dir / f\"{subject}-checked-raw.fif\"\n",
    "report_file = dst_dir / f\"{subject}-quality-check-report.html\""
   ]
  },
  {
   "cell_type": "markdown",
   "id": "ad35ef36-dc75-43f1-aed4-5e71c8bd23b3",
   "metadata": {},
   "source": [
    "## 1. Raw data"
   ]
  },
  {
   "cell_type": "code",
   "execution_count": null,
   "id": "b7f77104-2f3b-4be6-8efc-5b907a59a561",
   "metadata": {
    "tags": []
   },
   "outputs": [],
   "source": [
    "raw = mne.io.read_raw(src_file)\n",
    "raw"
   ]
  },
  {
   "cell_type": "code",
   "execution_count": null,
   "id": "c2064d04-d9b1-48f4-85f0-312daa3f0011",
   "metadata": {
    "tags": []
   },
   "outputs": [],
   "source": [
    "%matplotlib qt"
   ]
  },
  {
   "cell_type": "markdown",
   "id": "6e107528-08c2-4acc-96e8-c710ac94d26c",
   "metadata": {},
   "source": [
    "## 2. Get events"
   ]
  },
  {
   "cell_type": "code",
   "execution_count": null,
   "id": "b8dc51cc-4745-4b27-8d01-288832bdbb65",
   "metadata": {
    "tags": []
   },
   "outputs": [],
   "source": [
    "events = mne.find_events(raw)\n",
    "mne.viz.plot_events(events)"
   ]
  },
  {
   "cell_type": "markdown",
   "id": "2102379c-f12a-489d-9803-e769d64fc149",
   "metadata": {},
   "source": [
    "## 3. Find bad channels"
   ]
  },
  {
   "cell_type": "code",
   "execution_count": null,
   "id": "5b618a58-ff06-40f5-a0f7-3ce5bc30ce4e",
   "metadata": {
    "tags": []
   },
   "outputs": [],
   "source": [
    "raw.plot(events=events)"
   ]
  },
  {
   "cell_type": "code",
   "execution_count": null,
   "id": "659fe908-dbc9-4f2a-941e-c862a8cf937e",
   "metadata": {
    "tags": []
   },
   "outputs": [],
   "source": [
    "raw.info[\"bads\"]"
   ]
  },
  {
   "cell_type": "markdown",
   "id": "2c490b8b-6743-4bdb-a35a-e804c4a705de",
   "metadata": {},
   "source": [
    "## 4. Plot PSD"
   ]
  },
  {
   "cell_type": "code",
   "execution_count": null,
   "id": "c5300c52-767e-417f-a422-25c290157687",
   "metadata": {
    "tags": []
   },
   "outputs": [],
   "source": [
    "# raw = raw.crop(0, 1000)  # may need cropping\n",
    "raw.compute_psd(fmax=200).plot()"
   ]
  },
  {
   "cell_type": "markdown",
   "id": "fe32260a-d841-4b5b-bac3-4c33adceb0f5",
   "metadata": {},
   "source": [
    "## 5. Save the result"
   ]
  },
  {
   "cell_type": "code",
   "execution_count": null,
   "id": "daea7807-7aab-4620-9d7d-dc6eb33999c8",
   "metadata": {},
   "outputs": [],
   "source": [
    "raw.save(dst_file)"
   ]
  },
  {
   "cell_type": "code",
   "execution_count": null,
   "id": "bf6a83c4-0648-4677-919b-39f15f90fcc8",
   "metadata": {
    "tags": []
   },
   "outputs": [],
   "source": [
    "%matplotlib inline\n",
    "report = mne.Report(title=f\"{project}-{subject}-quality-check\")\n",
    "report.add_raw(raw=raw, title=\"Raw\", psd=False)\n",
    "report.add_events(events=events, title=\"Events\", sfreq=raw.info[\"sfreq\"])\n",
    "report.save(report_file, overwrite=True)"
   ]
  }
 ],
 "metadata": {
  "kernelspec": {
   "display_name": "Python 3 (ipykernel)",
   "language": "python",
   "name": "python3"
  },
  "language_info": {
   "codemirror_mode": {
    "name": "ipython",
    "version": 3
   },
   "file_extension": ".py",
   "mimetype": "text/x-python",
   "name": "python",
   "nbconvert_exporter": "python",
   "pygments_lexer": "ipython3",
   "version": "3.11.2"
  }
 },
 "nbformat": 4,
 "nbformat_minor": 5
}
